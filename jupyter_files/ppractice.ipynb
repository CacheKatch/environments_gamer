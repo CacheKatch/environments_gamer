{
 "cells": [
  {
   "cell_type": "code",
   "execution_count": 1,
   "source": [
    "# List usage\r\n",
    "apple = \"01apple\"\r\n",
    "print (apple)"
   ],
   "outputs": [
    {
     "output_type": "stream",
     "name": "stdout",
     "text": [
      "01apple\n"
     ]
    }
   ],
   "metadata": {}
  },
  {
   "cell_type": "code",
   "execution_count": 9,
   "source": [
    "fruits = [\"apple\", \"mango\", \"banana\", \"soursop\",\"kiwi\", \"dragonfruit\", \"durian\",\"guava\",\"starfruit\", \"lychee\", \"tamarind\"]\r\n",
    "print(fruits[2:])"
   ],
   "outputs": [
    {
     "output_type": "stream",
     "name": "stdout",
     "text": [
      "['banana', 'soursop', 'kiwi', 'dragonfruit', 'durian', 'guava', 'starfruit', 'lychee', 'tamarind']\n"
     ]
    }
   ],
   "metadata": {}
  },
  {
   "cell_type": "code",
   "execution_count": 3,
   "source": [
    "len(fruits)"
   ],
   "outputs": [
    {
     "output_type": "execute_result",
     "data": {
      "text/plain": [
       "11"
      ]
     },
     "metadata": {},
     "execution_count": 3
    }
   ],
   "metadata": {}
  },
  {
   "cell_type": "code",
   "execution_count": 4,
   "source": [
    "# start:\r\n",
    "#:end\r\n",
    "#start:end:step\r\n",
    "print(fruits[::-2]) # by doing -2 it skips 2 backwards"
   ],
   "outputs": [
    {
     "output_type": "stream",
     "name": "stdout",
     "text": [
      "['tamarind', 'starfruit', 'durian', 'kiwi', 'banana', 'apple']\n"
     ]
    }
   ],
   "metadata": {}
  },
  {
   "cell_type": "code",
   "execution_count": 5,
   "source": [
    "# Add one fruit\r\n",
    "fruits.append(\"orange\")\r\n",
    "len(fruits)"
   ],
   "outputs": [
    {
     "output_type": "execute_result",
     "data": {
      "text/plain": [
       "12"
      ]
     },
     "metadata": {},
     "execution_count": 5
    }
   ],
   "metadata": {}
  },
  {
   "cell_type": "code",
   "execution_count": 6,
   "source": [
    "fruits.index(\"lychee\")"
   ],
   "outputs": [
    {
     "output_type": "execute_result",
     "data": {
      "text/plain": [
       "9"
      ]
     },
     "metadata": {},
     "execution_count": 6
    }
   ],
   "metadata": {}
  },
  {
   "cell_type": "code",
   "execution_count": 10,
   "source": [
    "# removal by name\r\n",
    "fruits.remove(\"mango\")\r\n",
    "fruits"
   ],
   "outputs": [
    {
     "output_type": "execute_result",
     "data": {
      "text/plain": [
       "['apple',\n",
       " 'banana',\n",
       " 'soursop',\n",
       " 'kiwi',\n",
       " 'dragonfruit',\n",
       " 'durian',\n",
       " 'guava',\n",
       " 'starfruit',\n",
       " 'lychee',\n",
       " 'tamarind']"
      ]
     },
     "metadata": {},
     "execution_count": 10
    }
   ],
   "metadata": {}
  },
  {
   "cell_type": "code",
   "execution_count": 11,
   "source": [
    "fruits.pop(5)"
   ],
   "outputs": [
    {
     "output_type": "execute_result",
     "data": {
      "text/plain": [
       "'durian'"
      ]
     },
     "metadata": {},
     "execution_count": 11
    }
   ],
   "metadata": {}
  },
  {
   "cell_type": "code",
   "execution_count": 12,
   "source": [
    "fruits"
   ],
   "outputs": [
    {
     "output_type": "execute_result",
     "data": {
      "text/plain": [
       "['apple',\n",
       " 'banana',\n",
       " 'soursop',\n",
       " 'kiwi',\n",
       " 'dragonfruit',\n",
       " 'guava',\n",
       " 'starfruit',\n",
       " 'lychee',\n",
       " 'tamarind']"
      ]
     },
     "metadata": {},
     "execution_count": 12
    }
   ],
   "metadata": {}
  },
  {
   "cell_type": "code",
   "execution_count": 14,
   "source": [
    "fruits.pop(fruits.index(\"starfruit\"))"
   ],
   "outputs": [
    {
     "output_type": "execute_result",
     "data": {
      "text/plain": [
       "'starfruit'"
      ]
     },
     "metadata": {},
     "execution_count": 14
    }
   ],
   "metadata": {}
  },
  {
   "cell_type": "code",
   "execution_count": 16,
   "source": [
    "cash_tips = [22, 10, 30, 45, 54, 60, 56]"
   ],
   "outputs": [],
   "metadata": {}
  },
  {
   "cell_type": "code",
   "execution_count": null,
   "source": [
    "# initialize the metrics variables\r\n",
    "\r\n",
    "count = 0\r\n",
    "total = 0\r\n",
    "average = 0\r\n",
    "minimum = 0\r\n",
    "maximum = 0"
   ],
   "outputs": [],
   "metadata": {}
  }
 ],
 "metadata": {
  "orig_nbformat": 4,
  "language_info": {
   "name": "python",
   "version": "3.6.13",
   "mimetype": "text/x-python",
   "codemirror_mode": {
    "name": "ipython",
    "version": 3
   },
   "pygments_lexer": "ipython3",
   "nbconvert_exporter": "python",
   "file_extension": ".py"
  },
  "kernelspec": {
   "name": "python3",
   "display_name": "Python 3.6.13 64-bit ('ml4heroku': conda)"
  },
  "interpreter": {
   "hash": "593722ba70527f5189a009d8bc97112c602714dfc490bf5cc73a4b405cf6eeb4"
  }
 },
 "nbformat": 4,
 "nbformat_minor": 2
}