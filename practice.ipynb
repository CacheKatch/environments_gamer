{
 "cells": [
  {
   "cell_type": "code",
   "execution_count": 15,
   "source": [
    "def Addtwodigits(num):\r\n",
    "    # convert num into string\r\n",
    "    string_num = str(num)\r\n",
    "    sumation = 0\r\n",
    "    for digit in string_num:\r\n",
    "        myinteger = int(digit)\r\n",
    "        sumation += myinteger\r\n",
    "    return sumation\r\n",
    "\r\n",
    "\r\n",
    "    \r\n",
    "print(Addtwodigits(29))"
   ],
   "outputs": [
    {
     "output_type": "stream",
     "name": "stdout",
     "text": [
      "11\n"
     ]
    }
   ],
   "metadata": {}
  },
  {
   "cell_type": "code",
   "execution_count": 6,
   "source": [
    "number = 29\r\n",
    "string_num= str(number)\r\n",
    "print(type(string_num))\r\n"
   ],
   "outputs": [
    {
     "output_type": "stream",
     "name": "stdout",
     "text": [
      "<class 'str'>\n"
     ]
    }
   ],
   "metadata": {}
  },
  {
   "cell_type": "code",
   "execution_count": 10,
   "source": [
    "list1 = string_num.split()\r\n",
    "map_obj = map(int,list1)\r\n",
    "list_final = list(map_obj)\r\n",
    "print(type(list_final))\r\n",
    "print(len(list_final))"
   ],
   "outputs": [
    {
     "output_type": "stream",
     "name": "stdout",
     "text": [
      "<class 'list'>\n",
      "1\n"
     ]
    }
   ],
   "metadata": {}
  },
  {
   "cell_type": "code",
   "execution_count": 11,
   "source": [
    "count_digits = len(string_num)\r\n",
    "print(count_digits)"
   ],
   "outputs": [
    {
     "output_type": "stream",
     "name": "stdout",
     "text": [
      "2\n"
     ]
    }
   ],
   "metadata": {}
  },
  {
   "cell_type": "code",
   "execution_count": 12,
   "source": [
    "totaling = 0\r\n",
    "for digit in string_num:\r\n",
    "    integer = int(digit)\r\n",
    "    totaling += integer\r\n",
    "\r\n",
    "\r\n"
   ],
   "outputs": [],
   "metadata": {}
  },
  {
   "cell_type": "code",
   "execution_count": 13,
   "source": [
    "print(totaling)"
   ],
   "outputs": [
    {
     "output_type": "stream",
     "name": "stdout",
     "text": [
      "11\n"
     ]
    }
   ],
   "metadata": {}
  }
 ],
 "metadata": {
  "orig_nbformat": 4,
  "language_info": {
   "name": "python",
   "version": "3.6.13",
   "mimetype": "text/x-python",
   "codemirror_mode": {
    "name": "ipython",
    "version": 3
   },
   "pygments_lexer": "ipython3",
   "nbconvert_exporter": "python",
   "file_extension": ".py"
  },
  "kernelspec": {
   "name": "python3",
   "display_name": "Python 3.6.13 64-bit ('ml4heroku': conda)"
  },
  "interpreter": {
   "hash": "593722ba70527f5189a009d8bc97112c602714dfc490bf5cc73a4b405cf6eeb4"
  }
 },
 "nbformat": 4,
 "nbformat_minor": 2
}